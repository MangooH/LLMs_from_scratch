{
 "cells": [
  {
   "cell_type": "markdown",
   "metadata": {},
   "source": [
    "# Query Translation\n",
    "> 사용자의 입력 질문을 번역하여 검색 성능을 향상시키는 것\n",
    "- 사용자 쿼리는 모호할 수 있으며, 쿼리가 잘못 작성된 경우 쿼리와 문서 간의 의미적 유사성을 기반으로 검색을 수행하기 때문에 적절한 문서를 검색할 수 없습니다."
   ]
  },
  {
   "cell_type": "markdown",
   "metadata": {},
   "source": [
    "##"
   ]
  },
  {
   "cell_type": "markdown",
   "metadata": {},
   "source": [
    "## Approaches\n",
    "- Query Re-writing\n",
    "\n",
    "    > 쿼리를 다른 관점에서 다시 작성하는 방식\n",
    "    - Multi-Query: 여러 관점에서 질문을 작성하고, 각각에 대해 검색을 수행하여, 신뢰성을 높이는 방법\n",
    "    - RAG-Fusion\n",
    "- Sub Question\n",
    "\n",
    "    > 질문을 덜 추상적으로 만들기 위해 하위 질문으로 나누는 방법\n",
    "    - least to most (Google)\n",
    "\n",
    "- Step-back Question\n",
    "\n",
    "    > 질문을 더 추상적으로 만드는 방법"
   ]
  },
  {
   "cell_type": "markdown",
   "metadata": {},
   "source": [
    "<div style=\"text-align: center;\">\n",
    "    <img src=\"./img/transform_questions.png\" alt=\"Indexing\" style=\"width: 80%;\">\n",
    "</div>"
   ]
  },
  {
   "cell_type": "code",
   "execution_count": null,
   "metadata": {},
   "outputs": [],
   "source": []
  }
 ],
 "metadata": {
  "language_info": {
   "name": "python"
  }
 },
 "nbformat": 4,
 "nbformat_minor": 2
}
