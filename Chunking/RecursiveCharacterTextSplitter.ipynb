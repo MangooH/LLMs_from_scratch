{
  "nbformat": 4,
  "nbformat_minor": 0,
  "metadata": {
    "colab": {
      "provenance": [],
      "mount_file_id": "1qlQancwbq06YoJDiwZwOB4gYZENnktd1",
      "authorship_tag": "ABX9TyPDTLWB/42xh/ygQFauDv0n",
      "include_colab_link": true
    },
    "kernelspec": {
      "name": "python3",
      "display_name": "Python 3"
    },
    "language_info": {
      "name": "python"
    }
  },
  "cells": [
    {
      "cell_type": "markdown",
      "metadata": {
        "id": "view-in-github",
        "colab_type": "text"
      },
      "source": [
        "<a href=\"https://colab.research.google.com/github/MangooH/LLMs_from_scratch/blob/main/Chunking/RecursiveCharacterTextSplitter.ipynb\" target=\"_parent\"><img src=\"https://colab.research.google.com/assets/colab-badge.svg\" alt=\"Open In Colab\"/></a>"
      ]
    },
    {
      "cell_type": "markdown",
      "source": [
        "### RecursiveCharacterTextSplitter\n",
        "\n",
        "- RecursiveCharacterTextSplitter 는 문자 목록을 매개변수로 받아 동작한다.\n",
        "- 분할기는 청크가 충분히 작아질 때까지 **주어진 문자 목록의 순서대로 텍스트를 분할**한다.\n",
        "- 기본 문자 목록: [\"\\n\\n\", \"\\n\", \" \", \"\"]\n",
        "- 단락 -> 문장 -> 단어 순서로 재귀적으로 분할"
      ],
      "metadata": {
        "id": "6HUSDhTmCtXL"
      }
    },
    {
      "cell_type": "code",
      "source": [
        "%pip install -qU langchain-text-splitters"
      ],
      "metadata": {
        "colab": {
          "base_uri": "https://localhost:8080/"
        },
        "id": "TuIigxv5EHRr",
        "outputId": "f48e0b6a-e66c-4a40-ca8a-c335caa2219d"
      },
      "execution_count": 1,
      "outputs": [
        {
          "output_type": "stream",
          "name": "stdout",
          "text": [
            "\u001b[2K     \u001b[90m━━━━━━━━━━━━━━━━━━━━━━━━━━━━━━━━━━━━━━━━\u001b[0m \u001b[32m337.4/337.4 kB\u001b[0m \u001b[31m4.6 MB/s\u001b[0m eta \u001b[36m0:00:00\u001b[0m\n",
            "\u001b[2K     \u001b[90m━━━━━━━━━━━━━━━━━━━━━━━━━━━━━━━━━━━━━━━━\u001b[0m \u001b[32m127.5/127.5 kB\u001b[0m \u001b[31m8.5 MB/s\u001b[0m eta \u001b[36m0:00:00\u001b[0m\n",
            "\u001b[2K     \u001b[90m━━━━━━━━━━━━━━━━━━━━━━━━━━━━━━━━━━━━━━━━\u001b[0m \u001b[32m141.1/141.1 kB\u001b[0m \u001b[31m3.4 MB/s\u001b[0m eta \u001b[36m0:00:00\u001b[0m\n",
            "\u001b[?25h"
          ]
        }
      ]
    },
    {
      "cell_type": "code",
      "source": [
        "with open(\"./splitter_data/recursive_example.txt\") as f:\n",
        "    text = f.read()"
      ],
      "metadata": {
        "id": "i0JKePOPEKFJ"
      },
      "execution_count": 9,
      "outputs": []
    },
    {
      "cell_type": "code",
      "source": [
        "text"
      ],
      "metadata": {
        "colab": {
          "base_uri": "https://localhost:8080/",
          "height": 125
        },
        "id": "OetoL0c2Fb-w",
        "outputId": "46c60e99-1057-4496-b765-875fc2fddcf9"
      },
      "execution_count": 11,
      "outputs": [
        {
          "output_type": "execute_result",
          "data": {
            "text/plain": [
              "'\\n# 인공지능의 발전과 영향\\n\\n## 1. 인공지능의 정의\\n인공지능(AI)은 인간의 학습능력, 추론능력, 지각능력을 인공적으로 구현한 컴퓨터 시스템을 말합니다.\\n이는 다음과 같은 특징을 가집니다:\\n- 학습 능력\\n- 추론 능력\\n- 문제 해결 능력\\n\\n## 2. 인공지능의 응용 분야\\n인공지능은 다양한 분야에서 활용되고 있습니다:\\n\\n### 2.1 의료 분야\\n의료 분야에서 AI는 다음과 같이 활용됩니다:\\n- 질병 진단\\n- 개인화된 치료 계획\\n- 의료 영상 분석\\n\\n### 2.2 금융 분야\\n금융 분야에서의 AI 활용:\\n- 주식 시장 예측\\n- 사기 탐지\\n- 개인화된 금융 상품 추천\\n\\n## 3. 인공지능의 윤리적 고려사항\\nAI의 발전에 따른 윤리적 문제들:\\n1. 개인정보 보호\\n2. 알고리즘 편향성\\n3. 일자리 대체 문제\\n\\n## 4. 미래 전망\\nAI 기술은 계속해서 발전할 것으로 예상되며, 우리 삶의 모든 영역에 영향을 미칠 것입니다.\\n그러나 이러한 발전이 인간 중심적이고 윤리적으로 이루어지도록 지속적인 관심과 노력이 필요합니다.\\n'"
            ],
            "application/vnd.google.colaboratory.intrinsic+json": {
              "type": "string"
            }
          },
          "metadata": {},
          "execution_count": 11
        }
      ]
    },
    {
      "cell_type": "code",
      "execution_count": 14,
      "metadata": {
        "colab": {
          "base_uri": "https://localhost:8080/"
        },
        "id": "tZK84xXZCsJb",
        "outputId": "26955c2e-9f75-44ae-f884-ef86c44a071a"
      },
      "outputs": [
        {
          "output_type": "stream",
          "name": "stdout",
          "text": [
            "총 9개의 청크로 분할되었습니다.\n",
            "\n",
            "청크 1:\n",
            "# 인공지능의 발전과 영향\n",
            "--------------------------------------------------\n",
            "청크 2:\n",
            "## 1. 인공지능의 정의\n",
            "인공지능(AI)은 인간의 학습능력, 추론능력, 지각능력을 인공적으로 구현한 컴퓨터 시스템을 말합니다.\n",
            "이는 다음과 같은 특징을 가집니다:\n",
            "- 학습 능력\n",
            "--------------------------------------------------\n",
            "청크 3:\n",
            "- 학습 능력\n",
            "- 추론 능력\n",
            "- 문제 해결 능력\n",
            "--------------------------------------------------\n",
            "청크 4:\n",
            "## 2. 인공지능의 응용 분야\n",
            "인공지능은 다양한 분야에서 활용되고 있습니다:\n",
            "--------------------------------------------------\n",
            "청크 5:\n",
            "### 2.1 의료 분야\n",
            "의료 분야에서 AI는 다음과 같이 활용됩니다:\n",
            "- 질병 진단\n",
            "- 개인화된 치료 계획\n",
            "- 의료 영상 분석\n",
            "--------------------------------------------------\n",
            "청크 6:\n",
            "### 2.2 금융 분야\n",
            "금융 분야에서의 AI 활용:\n",
            "- 주식 시장 예측\n",
            "- 사기 탐지\n",
            "- 개인화된 금융 상품 추천\n",
            "--------------------------------------------------\n",
            "청크 7:\n",
            "## 3. 인공지능의 윤리적 고려사항\n",
            "AI의 발전에 따른 윤리적 문제들:\n",
            "1. 개인정보 보호\n",
            "2. 알고리즘 편향성\n",
            "3. 일자리 대체 문제\n",
            "--------------------------------------------------\n",
            "청크 8:\n",
            "## 4. 미래 전망\n",
            "AI 기술은 계속해서 발전할 것으로 예상되며, 우리 삶의 모든 영역에 영향을 미칠 것입니다.\n",
            "--------------------------------------------------\n",
            "청크 9:\n",
            "그러나 이러한 발전이 인간 중심적이고 윤리적으로 이루어지도록 지속적인 관심과 노력이 필요합니다.\n",
            "--------------------------------------------------\n"
          ]
        }
      ],
      "source": [
        "from langchain_text_splitters import RecursiveCharacterTextSplitter\n",
        "\n",
        "# RecursiveCharacterTextSplitter 초기화\n",
        "text_splitter = RecursiveCharacterTextSplitter(\n",
        "    separators=[\"\\n# \", \"\\n## \", \"\\n### \", \"\\n\", \" \", \"\"],\n",
        "    chunk_size=100,\n",
        "    chunk_overlap=20,\n",
        "    length_function=len,\n",
        ")\n",
        "\n",
        "# 텍스트를 청크로 분할\n",
        "chunks = text_splitter.split_text(text)\n",
        "\n",
        "# 결과 출력\n",
        "print(f\"총 {len(chunks)}개의 청크로 분할되었습니다.\\n\")\n",
        "for i, chunk in enumerate(chunks, 1):\n",
        "    print(f\"청크 {i}:\")\n",
        "    print(chunk)\n",
        "    print(\"-\" * 50)"
      ]
    },
    {
      "cell_type": "markdown",
      "source": [
        "---\n",
        "\n",
        "- 청크2&3: `\\n##` 에서 분할된 내용에서 *-학습 내용* 이 반복되는 것으로 보아 chunk_size 보다 커져 청크2와 청크3로 내용이 잘린 것을 확인할 수 있다.\n",
        "- 청크8&9: 청크8은 길이가 85로, '\\n' 로 구분된 청크9의 내용을 이어서 분할하지 않았다."
      ],
      "metadata": {
        "id": "aaYo2v_OFopd"
      }
    }
  ]
}