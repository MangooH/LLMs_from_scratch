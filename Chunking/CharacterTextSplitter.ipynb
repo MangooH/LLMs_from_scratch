{
  "nbformat": 4,
  "nbformat_minor": 0,
  "metadata": {
    "colab": {
      "provenance": [],
      "mount_file_id": "1Ou1dRZGvAXW4mk3OiRHs1P_nWGJxalap",
      "authorship_tag": "ABX9TyPTugD6OMcdRVw1l/nYmdax",
      "include_colab_link": true
    },
    "kernelspec": {
      "name": "python3",
      "display_name": "Python 3"
    },
    "language_info": {
      "name": "python"
    }
  },
  "cells": [
    {
      "cell_type": "markdown",
      "metadata": {
        "id": "view-in-github",
        "colab_type": "text"
      },
      "source": [
        "<a href=\"https://colab.research.google.com/github/MangooH/LLMs_from_scratch/blob/main/Chunking/CharacterTextSplitter.ipynb\" target=\"_parent\"><img src=\"https://colab.research.google.com/assets/colab-badge.svg\" alt=\"Open In Colab\"/></a>"
      ]
    },
    {
      "cell_type": "markdown",
      "source": [
        "### CharacterTextSplitter\n",
        "> 기본적으로 \"\\n\\n\" 을 기준으로 문자 단위로 텍스트를 분할하고, 청크의 크기를 문자 수로 측정"
      ],
      "metadata": {
        "id": "cdKOZ9iQBJPd"
      }
    },
    {
      "cell_type": "code",
      "execution_count": 2,
      "metadata": {
        "colab": {
          "base_uri": "https://localhost:8080/"
        },
        "id": "kGieCrLQwOJA",
        "outputId": "4a956cee-8ebc-43f1-f535-4ce6ea36347d"
      },
      "outputs": [
        {
          "output_type": "stream",
          "name": "stdout",
          "text": [
            "\u001b[2K     \u001b[90m━━━━━━━━━━━━━━━━━━━━━━━━━━━━━━━━━━━━━━━━\u001b[0m \u001b[32m337.4/337.4 kB\u001b[0m \u001b[31m7.3 MB/s\u001b[0m eta \u001b[36m0:00:00\u001b[0m\n",
            "\u001b[2K     \u001b[90m━━━━━━━━━━━━━━━━━━━━━━━━━━━━━━━━━━━━━━━━\u001b[0m \u001b[32m127.5/127.5 kB\u001b[0m \u001b[31m12.9 MB/s\u001b[0m eta \u001b[36m0:00:00\u001b[0m\n",
            "\u001b[2K     \u001b[90m━━━━━━━━━━━━━━━━━━━━━━━━━━━━━━━━━━━━━━━━\u001b[0m \u001b[32m141.1/141.1 kB\u001b[0m \u001b[31m12.0 MB/s\u001b[0m eta \u001b[36m0:00:00\u001b[0m\n",
            "\u001b[?25h"
          ]
        }
      ],
      "source": [
        "%pip install -qU langchain-text-splitters"
      ]
    },
    {
      "cell_type": "code",
      "source": [
        "from langchain_text_splitters import CharacterTextSplitter"
      ],
      "metadata": {
        "id": "ZxO0x9vuwUXw"
      },
      "execution_count": 3,
      "outputs": []
    },
    {
      "cell_type": "code",
      "source": [
        "# 파일에서 텍스트 읽기\n",
        "with open('./splitter_data/character_example.txt', 'r', encoding='utf-8') as f:\n",
        "    text = f.read()"
      ],
      "metadata": {
        "id": "l9b6tVdHxLhH"
      },
      "execution_count": 8,
      "outputs": []
    },
    {
      "cell_type": "markdown",
      "source": [
        "#### Initialize CharacterTextSplitter"
      ],
      "metadata": {
        "id": "1O22ut-UBa4W"
      }
    },
    {
      "cell_type": "code",
      "source": [
        "# CharacterTextSplitter 초기화\n",
        "text_splitter = CharacterTextSplitter(\n",
        "    # 텍스트를 분할할 때 사용할 구분자를 지정. Default: \"\\n\\n\"\n",
        "    separator = \"\\n\\n\",\n",
        "    # 분할된 텍스트 청크의 최대 크기 지정\n",
        "    chunk_size = 100,\n",
        "    # 분할된 텍스트 청크 간의 중복되는 문자 수를 지정\n",
        "    chunk_overlap  = 20,\n",
        "    # 텍스트의 길이를 계산하는 함수를 지정\n",
        "    length_function = len,\n",
        "    # 구분자가 정규식인지 여부를 지정\n",
        "    is_separator_regex = False,\n",
        ")"
      ],
      "metadata": {
        "id": "kMHYsvIHBaa7"
      },
      "execution_count": null,
      "outputs": []
    },
    {
      "cell_type": "markdown",
      "source": [
        "#### `split_text()` 메서드를 사용하여 텍스트를 청크로 분할"
      ],
      "metadata": {
        "id": "hY74o4AEBWmr"
      }
    },
    {
      "cell_type": "code",
      "source": [
        "# split_text() 메서드를 사용하여 텍스트를 청크로 분할\n",
        "chunks = text_splitter.split_text(text)\n",
        "\n",
        "# 결과 출력\n",
        "chunks[0]"
      ],
      "metadata": {
        "colab": {
          "base_uri": "https://localhost:8080/",
          "height": 89
        },
        "id": "9m_Go-LLwaDX",
        "outputId": "a7e4e200-fbb4-4c63-f2b9-cf4dd82f30c1"
      },
      "execution_count": 11,
      "outputs": [
        {
          "output_type": "stream",
          "name": "stderr",
          "text": [
            "WARNING:langchain_text_splitters.base:Created a chunk of size 159, which is longer than the specified 100\n",
            "WARNING:langchain_text_splitters.base:Created a chunk of size 127, which is longer than the specified 100\n"
          ]
        },
        {
          "output_type": "execute_result",
          "data": {
            "text/plain": [
              "'인공지능(AI)은 인간의 학습능력, 추론능력, 지각능력, 그외에 인공적으로 구현한 컴퓨터 프로그램 또는 이를 포함한 컴퓨터 시스템을 말합니다. \\n다시 말해, 인간의 지능을 기계 등에 인공적으로 구현한 것을 뜻합니다. \\n이는 구현 방법과 적용 분야에 따라 다양하게 정의될 수 있습니다.'"
            ],
            "application/vnd.google.colaboratory.intrinsic+json": {
              "type": "string"
            }
          },
          "metadata": {},
          "execution_count": 11
        }
      ]
    },
    {
      "cell_type": "code",
      "source": [
        "'''\n",
        "WARNING: langchain_text_splitters.base:Created a chunk of size\n",
        ": 지정된 chunk size 보다 더 큰 경우\n",
        "  - CharacterTextSplitter는 기본적으로 지정된 구분자(여기서는 \"\\n\\n\")를 기준으로 텍스트를 나눕니다.\n",
        "  - 구분자 사이의 텍스트가 지정된 chunk_size보다 길 경우, 이를 더 작게 나누지 않고 그대로 유지합니다.\n",
        "'''"
      ],
      "metadata": {
        "id": "TlO5CB3M-4Vy"
      },
      "execution_count": null,
      "outputs": []
    },
    {
      "cell_type": "code",
      "source": [
        "text_splitter = CharacterTextSplitter(\n",
        "    separator = \" \",\n",
        "    chunk_size = 100,\n",
        "    chunk_overlap  = 20,\n",
        "    length_function = len,\n",
        "    is_separator_regex = False,\n",
        ")\n",
        "\n",
        "# 텍스트를 청크로 분할\n",
        "chunks = text_splitter.split_text(text)\n",
        "\n",
        "# 결과 출력\n",
        "print(f\"총 {len(chunks)}개의 청크로 분할되었습니다.\\n\")\n",
        "for i, chunk in enumerate(chunks, 1):\n",
        "    print(f\"청크 {i}:\")\n",
        "    print(chunk)\n",
        "    print(\"-\" * 50)"
      ],
      "metadata": {
        "colab": {
          "base_uri": "https://localhost:8080/"
        },
        "id": "GuvKlVvn_G_v",
        "outputId": "9368363b-9d47-4837-e026-79e8ce0351eb"
      },
      "execution_count": 13,
      "outputs": [
        {
          "output_type": "stream",
          "name": "stdout",
          "text": [
            "총 8개의 청크로 분할되었습니다.\n",
            "\n",
            "청크 1:\n",
            "인공지능(AI)은 인간의 학습능력, 추론능력, 지각능력, 그외에 인공적으로 구현한 컴퓨터 프로그램 또는 이를 포함한 컴퓨터 시스템을 말합니다. \n",
            "다시 말해, 인간의 지능을 기계\n",
            "--------------------------------------------------\n",
            "청크 2:\n",
            "다시 말해, 인간의 지능을 기계 등에 인공적으로 구현한 것을 뜻합니다. \n",
            "이는 구현 방법과 적용 분야에 따라 다양하게 정의될 수 있습니다.\n",
            "\n",
            "인공지능의 발전은 다양한 분야에\n",
            "--------------------------------------------------\n",
            "청크 3:\n",
            "발전은 다양한 분야에 혁명적인 변화를 가져오고 있습니다. \n",
            "예를 들어, 의료 분야에서는 질병 진단과 치료 계획 수립에 AI가 활용되고 있으며, \n",
            "금융 분야에서는 투자 분석과 사기\n",
            "--------------------------------------------------\n",
            "청크 4:\n",
            "금융 분야에서는 투자 분석과 사기 탐지에 AI 기술이 적용되고 있습니다.\n",
            "\n",
            "또한 자율주행 자동차, 개인화된 추천 시스템, 자연어 처리 기술 등 우리 일상 생활의 여러 측면에서\n",
            "--------------------------------------------------\n",
            "청크 5:\n",
            "등 우리 일상 생활의 여러 측면에서 \n",
            "인공지능 기술이 점점 더 중요한 역할을 하고 있습니다.\n",
            "\n",
            "그러나 AI의 발전은 윤리적, 사회적 문제도 제기하고 있습니다. \n",
            "개인정보 보호,\n",
            "--------------------------------------------------\n",
            "청크 6:\n",
            "제기하고 있습니다. \n",
            "개인정보 보호, 일자리 대체, AI의 의사결정 편향성 등은 우리 사회가 해결해야 할 중요한 과제입니다.\n",
            "\n",
            "앞으로 AI 기술은 더욱 발전하여 인간의 삶을 더욱\n",
            "--------------------------------------------------\n",
            "청크 7:\n",
            "더욱 발전하여 인간의 삶을 더욱 편리하고 효율적으로 만들 것으로 예상됩니다. \n",
            "동시에 이러한 기술의 발전이 인간 중심적이고 윤리적으로 이루어질 수 있도록 \n",
            "지속적인 연구와 논의가\n",
            "--------------------------------------------------\n",
            "청크 8:\n",
            "수 있도록 \n",
            "지속적인 연구와 논의가 필요할 것입니다.\n",
            "--------------------------------------------------\n"
          ]
        }
      ]
    },
    {
      "cell_type": "code",
      "source": [
        "'''\n",
        "위와 같이 구분자를 \" \" 로 사용하는 경우 문맥의 의미가 중복되거나 파악할 수 없는 경우를 주의해야한다.\n",
        "'''"
      ],
      "metadata": {
        "id": "f2Nrhqmv_fsj"
      },
      "execution_count": null,
      "outputs": []
    },
    {
      "cell_type": "markdown",
      "source": [
        "#### `create_documents` method 를 통해 메타데이터를 추가하여 Document 를 생성할 수 있다."
      ],
      "metadata": {
        "id": "_kyESE_EA4GF"
      }
    },
    {
      "cell_type": "code",
      "source": [
        "metadatas = [{'sequence': i} for i, _ in enumerate(chunks)]  # 문서에 대한 메타데이터 리스트를 정의합니다.\n",
        "documents = text_splitter.create_documents(\n",
        "    chunks,  # 분할할 텍스트 데이터를 리스트로 전달합니다.\n",
        "    metadatas=metadatas,  # 각 문서에 해당하는 메타데이터를 전달합니다.\n",
        ")\n",
        "print(documents[0])"
      ],
      "metadata": {
        "colab": {
          "base_uri": "https://localhost:8080/"
        },
        "id": "WY-5G6mXAE7c",
        "outputId": "f3ef970c-4e68-4aa6-a690-2fc3ac6ac7da"
      },
      "execution_count": 18,
      "outputs": [
        {
          "output_type": "stream",
          "name": "stdout",
          "text": [
            "page_content='인공지능(AI)은 인간의 학습능력, 추론능력, 지각능력, 그외에 인공적으로 구현한 컴퓨터 프로그램 또는 이를 포함한 컴퓨터 시스템을 말합니다. \n",
            "다시 말해, 인간의 지능을 기계' metadata={'sequence': 0}\n"
          ]
        }
      ]
    }
  ]
}