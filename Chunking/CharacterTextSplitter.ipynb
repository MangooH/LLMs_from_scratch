{
  "nbformat": 4,
  "nbformat_minor": 0,
  "metadata": {
    "colab": {
      "provenance": [],
      "mount_file_id": "1Ou1dRZGvAXW4mk3OiRHs1P_nWGJxalap",
      "authorship_tag": "ABX9TyMpjqHU6rwmGLZowxK65aG4"
    },
    "kernelspec": {
      "name": "python3",
      "display_name": "Python 3"
    },
    "language_info": {
      "name": "python"
    }
  },
  "cells": [
    {
      "cell_type": "code",
      "execution_count": 1,
      "metadata": {
        "colab": {
          "base_uri": "https://localhost:8080/"
        },
        "id": "kGieCrLQwOJA",
        "outputId": "05aba7a1-629a-4a2d-a99e-59c75887eada"
      },
      "outputs": [
        {
          "output_type": "stream",
          "name": "stdout",
          "text": [
            "\u001b[2K     \u001b[90m━━━━━━━━━━━━━━━━━━━━━━━━━━━━━━━━━━━━━━━━\u001b[0m \u001b[32m337.4/337.4 kB\u001b[0m \u001b[31m6.0 MB/s\u001b[0m eta \u001b[36m0:00:00\u001b[0m\n",
            "\u001b[2K     \u001b[90m━━━━━━━━━━━━━━━━━━━━━━━━━━━━━━━━━━━━━━━━\u001b[0m \u001b[32m127.5/127.5 kB\u001b[0m \u001b[31m7.2 MB/s\u001b[0m eta \u001b[36m0:00:00\u001b[0m\n",
            "\u001b[2K     \u001b[90m━━━━━━━━━━━━━━━━━━━━━━━━━━━━━━━━━━━━━━━━\u001b[0m \u001b[32m141.1/141.1 kB\u001b[0m \u001b[31m1.9 MB/s\u001b[0m eta \u001b[36m0:00:00\u001b[0m\n",
            "\u001b[?25h"
          ]
        }
      ],
      "source": [
        "%pip install -qU langchain-text-splitters"
      ]
    },
    {
      "cell_type": "code",
      "source": [
        "from langchain_text_splitters import CharacterTextSplitter"
      ],
      "metadata": {
        "id": "ZxO0x9vuwUXw"
      },
      "execution_count": 2,
      "outputs": []
    },
    {
      "cell_type": "code",
      "source": [
        "# 파일에서 텍스트 읽기\n",
        "with open('character_example.txt', 'r', encoding='utf-8') as f:\n",
        "    text = f.read()"
      ],
      "metadata": {
        "id": "l9b6tVdHxLhH"
      },
      "execution_count": 16,
      "outputs": []
    },
    {
      "cell_type": "code",
      "source": [
        "# CharacterTextSplitter 초기화\n",
        "text_splitter = CharacterTextSplitter(\n",
        "    separator = \"\\n\\n\",\n",
        "    chunk_size = 100,\n",
        "    chunk_overlap  = 20,\n",
        "    length_function = len,\n",
        "    is_separator_regex = False,\n",
        ")\n",
        "\n",
        "# 텍스트를 청크로 분할\n",
        "chunks = text_splitter.split_text(text)\n",
        "\n",
        "# 결과 출력\n",
        "print(f\"총 {len(chunks)}개의 청크로 분할되었습니다.\\n\")\n",
        "for i, chunk in enumerate(chunks, 1):\n",
        "    print(f\"청크 {i}:\")\n",
        "    print(chunk)\n",
        "    print(\"-\" * 50)"
      ],
      "metadata": {
        "colab": {
          "base_uri": "https://localhost:8080/"
        },
        "id": "9m_Go-LLwaDX",
        "outputId": "4a06f1fc-0a42-4646-dfad-5fcef9cbf6b4"
      },
      "execution_count": 17,
      "outputs": [
        {
          "output_type": "stream",
          "name": "stderr",
          "text": [
            "WARNING:langchain_text_splitters.base:Created a chunk of size 159, which is longer than the specified 100\n",
            "WARNING:langchain_text_splitters.base:Created a chunk of size 127, which is longer than the specified 100\n"
          ]
        },
        {
          "output_type": "stream",
          "name": "stdout",
          "text": [
            "총 5개의 청크로 분할되었습니다.\n",
            "\n",
            "청크 1:\n",
            "인공지능(AI)은 인간의 학습능력, 추론능력, 지각능력, 그외에 인공적으로 구현한 컴퓨터 프로그램 또는 이를 포함한 컴퓨터 시스템을 말합니다. \n",
            "다시 말해, 인간의 지능을 기계 등에 인공적으로 구현한 것을 뜻합니다. \n",
            "이는 구현 방법과 적용 분야에 따라 다양하게 정의될 수 있습니다.\n",
            "--------------------------------------------------\n",
            "청크 2:\n",
            "인공지능의 발전은 다양한 분야에 혁명적인 변화를 가져오고 있습니다. \n",
            "예를 들어, 의료 분야에서는 질병 진단과 치료 계획 수립에 AI가 활용되고 있으며, \n",
            "금융 분야에서는 투자 분석과 사기 탐지에 AI 기술이 적용되고 있습니다.\n",
            "--------------------------------------------------\n",
            "청크 3:\n",
            "또한 자율주행 자동차, 개인화된 추천 시스템, 자연어 처리 기술 등 우리 일상 생활의 여러 측면에서 \n",
            "인공지능 기술이 점점 더 중요한 역할을 하고 있습니다.\n",
            "--------------------------------------------------\n",
            "청크 4:\n",
            "그러나 AI의 발전은 윤리적, 사회적 문제도 제기하고 있습니다. \n",
            "개인정보 보호, 일자리 대체, AI의 의사결정 편향성 등은 우리 사회가 해결해야 할 중요한 과제입니다.\n",
            "--------------------------------------------------\n",
            "청크 5:\n",
            "앞으로 AI 기술은 더욱 발전하여 인간의 삶을 더욱 편리하고 효율적으로 만들 것으로 예상됩니다. \n",
            "동시에 이러한 기술의 발전이 인간 중심적이고 윤리적으로 이루어질 수 있도록 \n",
            "지속적인 연구와 논의가 필요할 것입니다.\n",
            "--------------------------------------------------\n"
          ]
        }
      ]
    }
  ]
}